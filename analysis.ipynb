{
 "cells": [
  {
   "cell_type": "markdown",
   "metadata": {},
   "source": [
    "# dependencies"
   ]
  },
  {
   "cell_type": "code",
   "execution_count": 16,
   "metadata": {
    "ExecuteTime": {
     "end_time": "2020-12-28T21:45:41.052607Z",
     "start_time": "2020-12-28T21:45:40.458312Z"
    }
   },
   "outputs": [],
   "source": [
    "# general\n",
    "import requests \n",
    "import os\n",
    "import re \n",
    "\n",
    "# data\n",
    "import pandas as pd\n",
    "\n",
    "# local dependencies\n",
    "import dirtools\n",
    "from nstools import NationStatesAPI\n",
    "from issue_results_api import IssuePredictionAPI"
   ]
  },
  {
   "cell_type": "code",
   "execution_count": null,
   "metadata": {},
   "outputs": [],
   "source": []
  },
  {
   "cell_type": "code",
   "execution_count": 19,
   "metadata": {
    "ExecuteTime": {
     "end_time": "2020-12-28T21:52:19.155039Z",
     "start_time": "2020-12-28T21:52:17.892531Z"
    }
   },
   "outputs": [],
   "source": [
    "nationName = 'north_kalandia'\n",
    "baseDir = os.getcwd()\n",
    "dirs = dirtools.Dirs(baseDir, nationName)\n",
    "\n",
    "# get issues\n",
    "nationName = 'north_kalandia'\n",
    "headers = {'User-Agent':'Nation Info Getter', \"X-Password\": \"koraxhun123\"}\n",
    "\n",
    "urlStats = \"https://www.nationstates.net/cgi-bin/api.cgi?nation=north_kalandia&q=census;scale=all;mode=score\"\n",
    "\n",
    "baseDir = os.getcwd()\n",
    "dirs = dirtools.Dirs(baseDir, nationName)\n",
    "nationStatesClass = NationStatesAPI(dirs, headers)\n",
    "urlIssues = nationStatesClass.generate_issues_url()\n",
    "issuesList = nationStatesClass.get_nation_issues(dirs.issuesDir, urlIssues)\n",
    "\n",
    "ipa = IssuePredictionAPI(dirs)\n",
    "issuePredictions = {}\n",
    "for issue in issuesList:\n",
    "    ipa.get_predictions(issue)\n",
    "    issuePredictions[issue] = ipa.process_predictions()"
   ]
  },
  {
   "cell_type": "code",
   "execution_count": 20,
   "metadata": {
    "ExecuteTime": {
     "end_time": "2020-12-28T21:52:19.163418Z",
     "start_time": "2020-12-28T21:52:19.158229Z"
    }
   },
   "outputs": [
    {
     "data": {
      "text/plain": [
       "['1303', '1081', '1101', '619', '1312']"
      ]
     },
     "execution_count": 20,
     "metadata": {},
     "output_type": "execute_result"
    }
   ],
   "source": [
    "issuesList"
   ]
  },
  {
   "cell_type": "code",
   "execution_count": 21,
   "metadata": {
    "ExecuteTime": {
     "end_time": "2020-12-28T21:52:21.364011Z",
     "start_time": "2020-12-28T21:52:21.248253Z"
    }
   },
   "outputs": [
    {
     "name": "stdout",
     "output_type": "stream",
     "text": [
      "1303 : 3\n",
      "1081 : 2\n",
      "1101 : 4\n",
      "619 : 4\n",
      "1312 : 3\n"
     ]
    }
   ],
   "source": [
    "for issue in issuePredictions:\n",
    "    current = issuePredictions[issue]\n",
    "    print(issue, ': ', end='')\n",
    "    for i in range(len(current)):\n",
    "        \n",
    "        choice = current[i]\n",
    "        del choice['result summary']\n",
    "        exec(f\"df_{issue}_{i} = pd.DataFrame(choice)\")\n",
    "    print(i)"
   ]
  },
  {
   "cell_type": "code",
   "execution_count": 22,
   "metadata": {
    "ExecuteTime": {
     "end_time": "2020-12-28T21:52:34.786542Z",
     "start_time": "2020-12-28T21:52:34.752322Z"
    }
   },
   "outputs": [
    {
     "data": {
      "text/html": [
       "<div>\n",
       "<style scoped>\n",
       "    .dataframe tbody tr th:only-of-type {\n",
       "        vertical-align: middle;\n",
       "    }\n",
       "\n",
       "    .dataframe tbody tr th {\n",
       "        vertical-align: top;\n",
       "    }\n",
       "\n",
       "    .dataframe thead th {\n",
       "        text-align: right;\n",
       "    }\n",
       "</style>\n",
       "<table border=\"1\" class=\"dataframe\">\n",
       "  <thead>\n",
       "    <tr style=\"text-align: right;\">\n",
       "      <th></th>\n",
       "      <th>Economy</th>\n",
       "      <th>Wealth Gaps</th>\n",
       "      <th>Death Rate</th>\n",
       "      <th>Eco-Friendliness</th>\n",
       "      <th>Social Conservatism</th>\n",
       "      <th>Nudity</th>\n",
       "      <th>Industry: Automobile Manufacturing</th>\n",
       "      <th>Industry: Cheese Exports</th>\n",
       "      <th>Industry: Basket Weaving</th>\n",
       "      <th>Industry: Information Technology</th>\n",
       "      <th>...</th>\n",
       "      <th>Human Development Index</th>\n",
       "      <th>Primitiveness</th>\n",
       "      <th>Scientific Advancement</th>\n",
       "      <th>Average Income</th>\n",
       "      <th>Average Income of Poor</th>\n",
       "      <th>Average Income of Rich</th>\n",
       "      <th>Public Education</th>\n",
       "      <th>Crime</th>\n",
       "      <th>Foreign Aid</th>\n",
       "      <th>Average Disposable Income</th>\n",
       "    </tr>\n",
       "  </thead>\n",
       "  <tbody>\n",
       "    <tr>\n",
       "      <th>0</th>\n",
       "      <td>-1.3400</td>\n",
       "      <td>-241.9400</td>\n",
       "      <td>-2.010</td>\n",
       "      <td>-86.9400</td>\n",
       "      <td>-0.6900</td>\n",
       "      <td>0.0000</td>\n",
       "      <td>-119.1600</td>\n",
       "      <td>-136.8600</td>\n",
       "      <td>-155.7200</td>\n",
       "      <td>-136.0900</td>\n",
       "      <td>...</td>\n",
       "      <td>-0.2200</td>\n",
       "      <td>-24.5000</td>\n",
       "      <td>0.0700</td>\n",
       "      <td>-1199.6900</td>\n",
       "      <td>-702.8300</td>\n",
       "      <td>-12254.0000</td>\n",
       "      <td>-118.2800</td>\n",
       "      <td>-0.2400</td>\n",
       "      <td>-50.1500</td>\n",
       "      <td>-992.8200</td>\n",
       "    </tr>\n",
       "    <tr>\n",
       "      <th>1</th>\n",
       "      <td>0.5500</td>\n",
       "      <td>-0.0000</td>\n",
       "      <td>2.270</td>\n",
       "      <td>4.5900</td>\n",
       "      <td>-0.0000</td>\n",
       "      <td>0.2500</td>\n",
       "      <td>40.8300</td>\n",
       "      <td>36.3900</td>\n",
       "      <td>69.7900</td>\n",
       "      <td>216.1900</td>\n",
       "      <td>...</td>\n",
       "      <td>1.2600</td>\n",
       "      <td>-0.0700</td>\n",
       "      <td>24.1400</td>\n",
       "      <td>531.5400</td>\n",
       "      <td>670.8400</td>\n",
       "      <td>1076.0000</td>\n",
       "      <td>12.9600</td>\n",
       "      <td>-0.0000</td>\n",
       "      <td>2.2200</td>\n",
       "      <td>500.7100</td>\n",
       "    </tr>\n",
       "    <tr>\n",
       "      <th>2</th>\n",
       "      <td>-0.1654</td>\n",
       "      <td>-0.4172</td>\n",
       "      <td>-0.012</td>\n",
       "      <td>-1.5456</td>\n",
       "      <td>-0.0003</td>\n",
       "      <td>0.0001</td>\n",
       "      <td>-3.4366</td>\n",
       "      <td>-3.7675</td>\n",
       "      <td>-4.3515</td>\n",
       "      <td>71.0517</td>\n",
       "      <td>...</td>\n",
       "      <td>0.0656</td>\n",
       "      <td>-1.7576</td>\n",
       "      <td>1.5433</td>\n",
       "      <td>-51.6249</td>\n",
       "      <td>121.9986</td>\n",
       "      <td>-1009.8991</td>\n",
       "      <td>-4.2263</td>\n",
       "      <td>-0.0112</td>\n",
       "      <td>-0.6846</td>\n",
       "      <td>-29.3538</td>\n",
       "    </tr>\n",
       "  </tbody>\n",
       "</table>\n",
       "<p>3 rows × 58 columns</p>\n",
       "</div>"
      ],
      "text/plain": [
       "   Economy  Wealth Gaps  Death Rate  Eco-Friendliness  Social Conservatism  \\\n",
       "0  -1.3400    -241.9400      -2.010          -86.9400              -0.6900   \n",
       "1   0.5500      -0.0000       2.270            4.5900              -0.0000   \n",
       "2  -0.1654      -0.4172      -0.012           -1.5456              -0.0003   \n",
       "\n",
       "   Nudity  Industry: Automobile Manufacturing  Industry: Cheese Exports  \\\n",
       "0  0.0000                           -119.1600                 -136.8600   \n",
       "1  0.2500                             40.8300                   36.3900   \n",
       "2  0.0001                             -3.4366                   -3.7675   \n",
       "\n",
       "   Industry: Basket Weaving  Industry: Information Technology  ...  \\\n",
       "0                 -155.7200                         -136.0900  ...   \n",
       "1                   69.7900                          216.1900  ...   \n",
       "2                   -4.3515                           71.0517  ...   \n",
       "\n",
       "   Human Development Index  Primitiveness  Scientific Advancement  \\\n",
       "0                  -0.2200       -24.5000                  0.0700   \n",
       "1                   1.2600        -0.0700                 24.1400   \n",
       "2                   0.0656        -1.7576                  1.5433   \n",
       "\n",
       "   Average Income  Average Income of Poor  Average Income of Rich  \\\n",
       "0      -1199.6900               -702.8300             -12254.0000   \n",
       "1        531.5400                670.8400               1076.0000   \n",
       "2        -51.6249                121.9986              -1009.8991   \n",
       "\n",
       "   Public Education   Crime  Foreign Aid  Average Disposable Income  \n",
       "0         -118.2800 -0.2400     -50.1500                  -992.8200  \n",
       "1           12.9600 -0.0000       2.2200                   500.7100  \n",
       "2           -4.2263 -0.0112      -0.6846                   -29.3538  \n",
       "\n",
       "[3 rows x 58 columns]"
      ]
     },
     "execution_count": 22,
     "metadata": {},
     "output_type": "execute_result"
    }
   ],
   "source": [
    "df_1303_1"
   ]
  },
  {
   "cell_type": "code",
   "execution_count": null,
   "metadata": {},
   "outputs": [],
   "source": []
  }
 ],
 "metadata": {
  "kernelspec": {
   "display_name": "Python 3",
   "language": "python",
   "name": "python3"
  },
  "language_info": {
   "codemirror_mode": {
    "name": "ipython",
    "version": 3
   },
   "file_extension": ".py",
   "mimetype": "text/x-python",
   "name": "python",
   "nbconvert_exporter": "python",
   "pygments_lexer": "ipython3",
   "version": "3.6.9"
  },
  "toc": {
   "base_numbering": 1,
   "nav_menu": {},
   "number_sections": true,
   "sideBar": true,
   "skip_h1_title": false,
   "title_cell": "Table of Contents",
   "title_sidebar": "Contents",
   "toc_cell": false,
   "toc_position": {},
   "toc_section_display": true,
   "toc_window_display": false
  }
 },
 "nbformat": 4,
 "nbformat_minor": 4
}
